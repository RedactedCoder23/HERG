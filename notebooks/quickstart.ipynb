{
 "cells": [
  {
   "cell_type": "markdown",
   "id": "880f5db2",
   "metadata": {},
   "source": [
    "## HERG Quickstart"
   ]
  },
  {
   "cell_type": "code",
   "execution_count": null,
   "id": "4125b4f8",
   "metadata": {},
   "outputs": [],
   "source": [
    "import numpy as np\n",
    "from herg.graph_caps.loader import HVLogLoader"
   ]
  },
  {
   "cell_type": "code",
   "execution_count": null,
   "id": "a0d327ad",
   "metadata": {},
   "outputs": [],
   "source": [
    "from sklearn.manifold import TSNE\n",
    "import matplotlib.pyplot as plt"
   ]
  },
  {
   "cell_type": "code",
   "execution_count": null,
   "id": "d37fee7b",
   "metadata": {},
   "outputs": [],
   "source": [
    "loader = HVLogLoader('example.chk')\n",
    "vecs=[]\n",
    "for i,(s,v) in zip(range(100_000), loader):\n",
    "    vecs.append(v)"
   ]
  },
  {
   "cell_type": "code",
   "execution_count": null,
   "id": "b5a225e3",
   "metadata": {},
   "outputs": [],
   "source": [
    "tsne = TSNE(n_components=2, init='random')\n",
    "X = tsne.fit_transform(np.vstack(vecs[:2000]).astype(np.float32))\n",
    "plt.scatter(X[:,0], X[:,1], s=2)\n",
    "plt.show()"
   ]
  }
 ],
 "metadata": {},
 "nbformat": 4,
 "nbformat_minor": 5
}
